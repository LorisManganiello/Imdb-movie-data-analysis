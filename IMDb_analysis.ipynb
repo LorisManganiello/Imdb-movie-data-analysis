{
 "cells": [
  {
   "cell_type": "markdown",
   "metadata": {},
   "source": [
    "### ANALISI DI IMDB"
   ]
  },
  {
   "cell_type": "code",
   "execution_count": 1,
   "metadata": {},
   "outputs": [],
   "source": [
    "# Importo le librerie\n",
    "import numpy as np\n",
    "import pandas as pd\n",
    "import matplotlib.pyplot as plt\n",
    "import seaborn as sns"
   ]
  },
  {
   "cell_type": "code",
   "execution_count": 2,
   "metadata": {},
   "outputs": [
    {
     "data": {
      "text/html": [
       "<div>\n",
       "<style scoped>\n",
       "    .dataframe tbody tr th:only-of-type {\n",
       "        vertical-align: middle;\n",
       "    }\n",
       "\n",
       "    .dataframe tbody tr th {\n",
       "        vertical-align: top;\n",
       "    }\n",
       "\n",
       "    .dataframe thead th {\n",
       "        text-align: right;\n",
       "    }\n",
       "</style>\n",
       "<table border=\"1\" class=\"dataframe\">\n",
       "  <thead>\n",
       "    <tr style=\"text-align: right;\">\n",
       "      <th></th>\n",
       "      <th>title</th>\n",
       "      <th>director</th>\n",
       "      <th>release_year</th>\n",
       "      <th>runtime</th>\n",
       "      <th>genre</th>\n",
       "      <th>rating</th>\n",
       "      <th>metascore</th>\n",
       "      <th>gross</th>\n",
       "    </tr>\n",
       "  </thead>\n",
       "  <tbody>\n",
       "    <tr>\n",
       "      <th>0</th>\n",
       "      <td>The Shawshank Redemption</td>\n",
       "      <td>Frank Darabont</td>\n",
       "      <td>(1994)</td>\n",
       "      <td>142 min</td>\n",
       "      <td>Drama</td>\n",
       "      <td>9.3</td>\n",
       "      <td>82</td>\n",
       "      <td>$28.34M</td>\n",
       "    </tr>\n",
       "    <tr>\n",
       "      <th>1</th>\n",
       "      <td>The Godfather</td>\n",
       "      <td>Francis Ford Coppola</td>\n",
       "      <td>(1972)</td>\n",
       "      <td>175 min</td>\n",
       "      <td>Crime, Drama</td>\n",
       "      <td>9.2</td>\n",
       "      <td>100</td>\n",
       "      <td>$134.97M</td>\n",
       "    </tr>\n",
       "    <tr>\n",
       "      <th>2</th>\n",
       "      <td>The Dark Knight</td>\n",
       "      <td>Christopher Nolan</td>\n",
       "      <td>(2008)</td>\n",
       "      <td>152 min</td>\n",
       "      <td>Action, Crime, Drama</td>\n",
       "      <td>9.0</td>\n",
       "      <td>84</td>\n",
       "      <td>$534.86M</td>\n",
       "    </tr>\n",
       "    <tr>\n",
       "      <th>3</th>\n",
       "      <td>Schindler's List</td>\n",
       "      <td>Steven Spielberg</td>\n",
       "      <td>(1993)</td>\n",
       "      <td>195 min</td>\n",
       "      <td>Biography, Drama, History</td>\n",
       "      <td>9.0</td>\n",
       "      <td>95</td>\n",
       "      <td>$96.90M</td>\n",
       "    </tr>\n",
       "    <tr>\n",
       "      <th>4</th>\n",
       "      <td>12 Angry Men</td>\n",
       "      <td>Sidney Lumet</td>\n",
       "      <td>(1957)</td>\n",
       "      <td>96 min</td>\n",
       "      <td>Crime, Drama</td>\n",
       "      <td>9.0</td>\n",
       "      <td>97</td>\n",
       "      <td>$4.36M</td>\n",
       "    </tr>\n",
       "  </tbody>\n",
       "</table>\n",
       "</div>"
      ],
      "text/plain": [
       "                      title              director release_year  runtime  \\\n",
       "0  The Shawshank Redemption        Frank Darabont       (1994)  142 min   \n",
       "1             The Godfather  Francis Ford Coppola       (1972)  175 min   \n",
       "2           The Dark Knight     Christopher Nolan       (2008)  152 min   \n",
       "3          Schindler's List      Steven Spielberg       (1993)  195 min   \n",
       "4              12 Angry Men          Sidney Lumet       (1957)   96 min   \n",
       "\n",
       "                       genre  rating  metascore     gross  \n",
       "0                      Drama     9.3         82   $28.34M  \n",
       "1               Crime, Drama     9.2        100  $134.97M  \n",
       "2       Action, Crime, Drama     9.0         84  $534.86M  \n",
       "3  Biography, Drama, History     9.0         95   $96.90M  \n",
       "4               Crime, Drama     9.0         97    $4.36M  "
      ]
     },
     "execution_count": 2,
     "metadata": {},
     "output_type": "execute_result"
    }
   ],
   "source": [
    "# Importo i dati grezzi dal database\n",
    "df=pd.read_csv('imdb_raw.csv')\n",
    "# Printo le prime righe per farmi un'idea dei dati\n",
    "df.head()"
   ]
  },
  {
   "cell_type": "markdown",
   "metadata": {},
   "source": [
    "#### Data cleaning (trasformo tutto in numero e non più in stringhe)"
   ]
  },
  {
   "cell_type": "code",
   "execution_count": 3,
   "metadata": {
    "scrolled": true
   },
   "outputs": [
    {
     "data": {
      "text/html": [
       "<div>\n",
       "<style scoped>\n",
       "    .dataframe tbody tr th:only-of-type {\n",
       "        vertical-align: middle;\n",
       "    }\n",
       "\n",
       "    .dataframe tbody tr th {\n",
       "        vertical-align: top;\n",
       "    }\n",
       "\n",
       "    .dataframe thead th {\n",
       "        text-align: right;\n",
       "    }\n",
       "</style>\n",
       "<table border=\"1\" class=\"dataframe\">\n",
       "  <thead>\n",
       "    <tr style=\"text-align: right;\">\n",
       "      <th></th>\n",
       "      <th>title</th>\n",
       "      <th>director</th>\n",
       "      <th>release_year</th>\n",
       "      <th>runtime</th>\n",
       "      <th>genre</th>\n",
       "      <th>rating</th>\n",
       "      <th>metascore</th>\n",
       "      <th>gross</th>\n",
       "    </tr>\n",
       "  </thead>\n",
       "  <tbody>\n",
       "    <tr>\n",
       "      <th>0</th>\n",
       "      <td>The Shawshank Redemption</td>\n",
       "      <td>Frank Darabont</td>\n",
       "      <td>1994</td>\n",
       "      <td>142 min</td>\n",
       "      <td>Drama</td>\n",
       "      <td>9.3</td>\n",
       "      <td>82</td>\n",
       "      <td>$28.34M</td>\n",
       "    </tr>\n",
       "    <tr>\n",
       "      <th>1</th>\n",
       "      <td>The Godfather</td>\n",
       "      <td>Francis Ford Coppola</td>\n",
       "      <td>1972</td>\n",
       "      <td>175 min</td>\n",
       "      <td>Crime, Drama</td>\n",
       "      <td>9.2</td>\n",
       "      <td>100</td>\n",
       "      <td>$134.97M</td>\n",
       "    </tr>\n",
       "    <tr>\n",
       "      <th>2</th>\n",
       "      <td>The Dark Knight</td>\n",
       "      <td>Christopher Nolan</td>\n",
       "      <td>2008</td>\n",
       "      <td>152 min</td>\n",
       "      <td>Action, Crime, Drama</td>\n",
       "      <td>9.0</td>\n",
       "      <td>84</td>\n",
       "      <td>$534.86M</td>\n",
       "    </tr>\n",
       "    <tr>\n",
       "      <th>3</th>\n",
       "      <td>Schindler's List</td>\n",
       "      <td>Steven Spielberg</td>\n",
       "      <td>1993</td>\n",
       "      <td>195 min</td>\n",
       "      <td>Biography, Drama, History</td>\n",
       "      <td>9.0</td>\n",
       "      <td>95</td>\n",
       "      <td>$96.90M</td>\n",
       "    </tr>\n",
       "    <tr>\n",
       "      <th>4</th>\n",
       "      <td>12 Angry Men</td>\n",
       "      <td>Sidney Lumet</td>\n",
       "      <td>1957</td>\n",
       "      <td>96 min</td>\n",
       "      <td>Crime, Drama</td>\n",
       "      <td>9.0</td>\n",
       "      <td>97</td>\n",
       "      <td>$4.36M</td>\n",
       "    </tr>\n",
       "  </tbody>\n",
       "</table>\n",
       "</div>"
      ],
      "text/plain": [
       "                      title              director  release_year  runtime  \\\n",
       "0  The Shawshank Redemption        Frank Darabont          1994  142 min   \n",
       "1             The Godfather  Francis Ford Coppola          1972  175 min   \n",
       "2           The Dark Knight     Christopher Nolan          2008  152 min   \n",
       "3          Schindler's List      Steven Spielberg          1993  195 min   \n",
       "4              12 Angry Men          Sidney Lumet          1957   96 min   \n",
       "\n",
       "                       genre  rating  metascore     gross  \n",
       "0                      Drama     9.3         82   $28.34M  \n",
       "1               Crime, Drama     9.2        100  $134.97M  \n",
       "2       Action, Crime, Drama     9.0         84  $534.86M  \n",
       "3  Biography, Drama, History     9.0         95   $96.90M  \n",
       "4               Crime, Drama     9.0         97    $4.36M  "
      ]
     },
     "execution_count": 3,
     "metadata": {},
     "output_type": "execute_result"
    }
   ],
   "source": [
    "# Rimuove le parentesi e converte in numero\n",
    "\n",
    "# Estraggo una perte dalla stringa con 'extract'\n",
    "#poi metto la condizione con 'r' e poi con '\\d' dico che voglio i numeri e con + dico tutti i numeri\n",
    "df['release_year']=df['release_year'].str.extract(r'(\\d+)')\n",
    "# Per ora erano stringhe, li metto in numeri interi\n",
    "df['release_year']=df['release_year'].astype(int)\n",
    "\n",
    "# Printo di nuovo le prime righe con la correzione della data di rilascio\n",
    "df.head()"
   ]
  },
  {
   "cell_type": "code",
   "execution_count": 4,
   "metadata": {},
   "outputs": [
    {
     "data": {
      "text/html": [
       "<div>\n",
       "<style scoped>\n",
       "    .dataframe tbody tr th:only-of-type {\n",
       "        vertical-align: middle;\n",
       "    }\n",
       "\n",
       "    .dataframe tbody tr th {\n",
       "        vertical-align: top;\n",
       "    }\n",
       "\n",
       "    .dataframe thead th {\n",
       "        text-align: right;\n",
       "    }\n",
       "</style>\n",
       "<table border=\"1\" class=\"dataframe\">\n",
       "  <thead>\n",
       "    <tr style=\"text-align: right;\">\n",
       "      <th></th>\n",
       "      <th>title</th>\n",
       "      <th>director</th>\n",
       "      <th>release_year</th>\n",
       "      <th>runtime</th>\n",
       "      <th>genre</th>\n",
       "      <th>rating</th>\n",
       "      <th>metascore</th>\n",
       "      <th>gross</th>\n",
       "    </tr>\n",
       "  </thead>\n",
       "  <tbody>\n",
       "    <tr>\n",
       "      <th>0</th>\n",
       "      <td>The Shawshank Redemption</td>\n",
       "      <td>Frank Darabont</td>\n",
       "      <td>1994</td>\n",
       "      <td>142</td>\n",
       "      <td>Drama</td>\n",
       "      <td>9.3</td>\n",
       "      <td>82</td>\n",
       "      <td>$28.34M</td>\n",
       "    </tr>\n",
       "    <tr>\n",
       "      <th>1</th>\n",
       "      <td>The Godfather</td>\n",
       "      <td>Francis Ford Coppola</td>\n",
       "      <td>1972</td>\n",
       "      <td>175</td>\n",
       "      <td>Crime, Drama</td>\n",
       "      <td>9.2</td>\n",
       "      <td>100</td>\n",
       "      <td>$134.97M</td>\n",
       "    </tr>\n",
       "    <tr>\n",
       "      <th>2</th>\n",
       "      <td>The Dark Knight</td>\n",
       "      <td>Christopher Nolan</td>\n",
       "      <td>2008</td>\n",
       "      <td>152</td>\n",
       "      <td>Action, Crime, Drama</td>\n",
       "      <td>9.0</td>\n",
       "      <td>84</td>\n",
       "      <td>$534.86M</td>\n",
       "    </tr>\n",
       "    <tr>\n",
       "      <th>3</th>\n",
       "      <td>Schindler's List</td>\n",
       "      <td>Steven Spielberg</td>\n",
       "      <td>1993</td>\n",
       "      <td>195</td>\n",
       "      <td>Biography, Drama, History</td>\n",
       "      <td>9.0</td>\n",
       "      <td>95</td>\n",
       "      <td>$96.90M</td>\n",
       "    </tr>\n",
       "    <tr>\n",
       "      <th>4</th>\n",
       "      <td>12 Angry Men</td>\n",
       "      <td>Sidney Lumet</td>\n",
       "      <td>1957</td>\n",
       "      <td>96</td>\n",
       "      <td>Crime, Drama</td>\n",
       "      <td>9.0</td>\n",
       "      <td>97</td>\n",
       "      <td>$4.36M</td>\n",
       "    </tr>\n",
       "  </tbody>\n",
       "</table>\n",
       "</div>"
      ],
      "text/plain": [
       "                      title              director  release_year  runtime  \\\n",
       "0  The Shawshank Redemption        Frank Darabont          1994      142   \n",
       "1             The Godfather  Francis Ford Coppola          1972      175   \n",
       "2           The Dark Knight     Christopher Nolan          2008      152   \n",
       "3          Schindler's List      Steven Spielberg          1993      195   \n",
       "4              12 Angry Men          Sidney Lumet          1957       96   \n",
       "\n",
       "                       genre  rating  metascore     gross  \n",
       "0                      Drama     9.3         82   $28.34M  \n",
       "1               Crime, Drama     9.2        100  $134.97M  \n",
       "2       Action, Crime, Drama     9.0         84  $534.86M  \n",
       "3  Biography, Drama, History     9.0         95   $96.90M  \n",
       "4               Crime, Drama     9.0         97    $4.36M  "
      ]
     },
     "execution_count": 4,
     "metadata": {},
     "output_type": "execute_result"
    }
   ],
   "source": [
    "# Devo modicare anche la runtime perchè non è in 'int' e contiene 'min'\n",
    "\n",
    "# Prima tolgo i ' min' e per farlo li \"sostituisco\" con l'insieme vuoto, poi gli cambio tipo e li metto in 'int'\n",
    "df['runtime']=df['runtime'].str.replace(' min','').astype('int')\n",
    "# potevo anche fare come prima con .str.extract(r'\\d+') però così usavo altre funzioni\n",
    "df.head()"
   ]
  },
  {
   "cell_type": "code",
   "execution_count": 5,
   "metadata": {
    "scrolled": true
   },
   "outputs": [
    {
     "data": {
      "text/html": [
       "<div>\n",
       "<style scoped>\n",
       "    .dataframe tbody tr th:only-of-type {\n",
       "        vertical-align: middle;\n",
       "    }\n",
       "\n",
       "    .dataframe tbody tr th {\n",
       "        vertical-align: top;\n",
       "    }\n",
       "\n",
       "    .dataframe thead th {\n",
       "        text-align: right;\n",
       "    }\n",
       "</style>\n",
       "<table border=\"1\" class=\"dataframe\">\n",
       "  <thead>\n",
       "    <tr style=\"text-align: right;\">\n",
       "      <th></th>\n",
       "      <th>title</th>\n",
       "      <th>director</th>\n",
       "      <th>release_year</th>\n",
       "      <th>runtime</th>\n",
       "      <th>genre</th>\n",
       "      <th>rating</th>\n",
       "      <th>metascore</th>\n",
       "      <th>gross</th>\n",
       "    </tr>\n",
       "  </thead>\n",
       "  <tbody>\n",
       "    <tr>\n",
       "      <th>0</th>\n",
       "      <td>The Shawshank Redemption</td>\n",
       "      <td>Frank Darabont</td>\n",
       "      <td>1994</td>\n",
       "      <td>142</td>\n",
       "      <td>Drama</td>\n",
       "      <td>9.3</td>\n",
       "      <td>82</td>\n",
       "      <td>28.34</td>\n",
       "    </tr>\n",
       "    <tr>\n",
       "      <th>1</th>\n",
       "      <td>The Godfather</td>\n",
       "      <td>Francis Ford Coppola</td>\n",
       "      <td>1972</td>\n",
       "      <td>175</td>\n",
       "      <td>Crime, Drama</td>\n",
       "      <td>9.2</td>\n",
       "      <td>100</td>\n",
       "      <td>134.97</td>\n",
       "    </tr>\n",
       "    <tr>\n",
       "      <th>2</th>\n",
       "      <td>The Dark Knight</td>\n",
       "      <td>Christopher Nolan</td>\n",
       "      <td>2008</td>\n",
       "      <td>152</td>\n",
       "      <td>Action, Crime, Drama</td>\n",
       "      <td>9.0</td>\n",
       "      <td>84</td>\n",
       "      <td>534.86</td>\n",
       "    </tr>\n",
       "    <tr>\n",
       "      <th>3</th>\n",
       "      <td>Schindler's List</td>\n",
       "      <td>Steven Spielberg</td>\n",
       "      <td>1993</td>\n",
       "      <td>195</td>\n",
       "      <td>Biography, Drama, History</td>\n",
       "      <td>9.0</td>\n",
       "      <td>95</td>\n",
       "      <td>96.90</td>\n",
       "    </tr>\n",
       "    <tr>\n",
       "      <th>4</th>\n",
       "      <td>12 Angry Men</td>\n",
       "      <td>Sidney Lumet</td>\n",
       "      <td>1957</td>\n",
       "      <td>96</td>\n",
       "      <td>Crime, Drama</td>\n",
       "      <td>9.0</td>\n",
       "      <td>97</td>\n",
       "      <td>4.36</td>\n",
       "    </tr>\n",
       "  </tbody>\n",
       "</table>\n",
       "</div>"
      ],
      "text/plain": [
       "                      title              director  release_year  runtime  \\\n",
       "0  The Shawshank Redemption        Frank Darabont          1994      142   \n",
       "1             The Godfather  Francis Ford Coppola          1972      175   \n",
       "2           The Dark Knight     Christopher Nolan          2008      152   \n",
       "3          Schindler's List      Steven Spielberg          1993      195   \n",
       "4              12 Angry Men          Sidney Lumet          1957       96   \n",
       "\n",
       "                       genre  rating  metascore   gross  \n",
       "0                      Drama     9.3         82   28.34  \n",
       "1               Crime, Drama     9.2        100  134.97  \n",
       "2       Action, Crime, Drama     9.0         84  534.86  \n",
       "3  Biography, Drama, History     9.0         95   96.90  \n",
       "4               Crime, Drama     9.0         97    4.36  "
      ]
     },
     "execution_count": 5,
     "metadata": {},
     "output_type": "execute_result"
    }
   ],
   "source": [
    "# Devo pulire anche i ricavi che contengono '$' e 'M'\n",
    "\n",
    "# Faccio lo stesso di prima per togliere le parti in eccesso e poi metto tutto in 'float'\n",
    "df['gross']=df['gross'].str.replace('$','')\n",
    "df['gross']=df['gross'].str.replace('M','')\n",
    "df['gross']=df['gross'].astype('float')\n",
    "df.head()"
   ]
  },
  {
   "cell_type": "markdown",
   "metadata": {},
   "source": [
    "#### Inizio con una analisi esplorativa"
   ]
  },
  {
   "cell_type": "code",
   "execution_count": 6,
   "metadata": {
    "scrolled": true
   },
   "outputs": [
    {
     "data": {
      "image/png": "[encoded data removed]",
      "text/plain": [
       "<Figure size 432x288 with 1 Axes>"
      ]
     },
     "metadata": {
      "needs_background": "light"
     },
     "output_type": "display_data"
    }
   ],
   "source": [
    "# Indago come si distribuiscono i valori di: rating, valutazione dei critici e incassi (milioni di dollari)\n",
    "\n",
    "# Istogramma per il rating.\n",
    "plt.hist(df['rating'],bins=20,color='blue',edgecolor='black')\n",
    "plt.title('Distribuzione del rating')\n",
    "plt.xlabel('Rating')\n",
    "plt.ylabel('Numero di film')\n",
    "plt.show()"
   ]
  },
  {
   "cell_type": "code",
   "execution_count": 7,
   "metadata": {},
   "outputs": [
    {
     "data": {
      "image/png": "[encoded data removed]",
      "text/plain": [
       "<Figure size 432x288 with 1 Axes>"
      ]
     },
     "metadata": {
      "needs_background": "light"
     },
     "output_type": "display_data"
    }
   ],
   "source": [
    "# Istogramma per il metascore\n",
    "plt.hist(df['metascore'],bins=20,color='red',edgecolor='black')\n",
    "plt.title('Valutazione dei critici')\n",
    "plt.xlabel('Metascore')\n",
    "plt.ylabel('Numero di titoli')\n",
    "plt.show()"
   ]
  },
  {
   "cell_type": "code",
   "execution_count": 8,
   "metadata": {},
   "outputs": [
    {
     "data": {
      "image/png": "[encoded data removed]",
      "text/plain": [
       "<Figure size 432x288 with 1 Axes>"
      ]
     },
     "metadata": {
      "needs_background": "light"
     },
     "output_type": "display_data"
    }
   ],
   "source": [
    "# Plotto gli incassi (in milioni di dollari)\n",
    "plt.hist(df['gross'],bins=20,color='green',edgecolor='black')\n",
    "plt.title('Incassi in milioni di dollari')\n",
    "plt.xlabel('Incassi')\n",
    "plt.ylabel('Numero titoli')\n",
    "\n",
    "plt.show()"
   ]
  },
  {
   "cell_type": "markdown",
   "metadata": {},
   "source": [
    "### Vediamo le statistiche di base"
   ]
  },
  {
   "cell_type": "code",
   "execution_count": 9,
   "metadata": {},
   "outputs": [
    {
     "data": {
      "text/html": [
       "<div>\n",
       "<style scoped>\n",
       "    .dataframe tbody tr th:only-of-type {\n",
       "        vertical-align: middle;\n",
       "    }\n",
       "\n",
       "    .dataframe tbody tr th {\n",
       "        vertical-align: top;\n",
       "    }\n",
       "\n",
       "    .dataframe thead th {\n",
       "        text-align: right;\n",
       "    }\n",
       "</style>\n",
       "<table border=\"1\" class=\"dataframe\">\n",
       "  <thead>\n",
       "    <tr style=\"text-align: right;\">\n",
       "      <th></th>\n",
       "      <th>rating</th>\n",
       "      <th>metascore</th>\n",
       "      <th>gross</th>\n",
       "    </tr>\n",
       "  </thead>\n",
       "  <tbody>\n",
       "    <tr>\n",
       "      <th>count</th>\n",
       "      <td>1000.00000</td>\n",
       "      <td>1000.000000</td>\n",
       "      <td>1000.00000</td>\n",
       "    </tr>\n",
       "    <tr>\n",
       "      <th>mean</th>\n",
       "      <td>7.96870</td>\n",
       "      <td>66.653000</td>\n",
       "      <td>57.75870</td>\n",
       "    </tr>\n",
       "    <tr>\n",
       "      <th>std</th>\n",
       "      <td>0.27562</td>\n",
       "      <td>30.712829</td>\n",
       "      <td>109.17303</td>\n",
       "    </tr>\n",
       "    <tr>\n",
       "      <th>min</th>\n",
       "      <td>7.60000</td>\n",
       "      <td>0.000000</td>\n",
       "      <td>0.00000</td>\n",
       "    </tr>\n",
       "    <tr>\n",
       "      <th>25%</th>\n",
       "      <td>7.80000</td>\n",
       "      <td>64.750000</td>\n",
       "      <td>0.23000</td>\n",
       "    </tr>\n",
       "    <tr>\n",
       "      <th>50%</th>\n",
       "      <td>7.90000</td>\n",
       "      <td>77.000000</td>\n",
       "      <td>9.40000</td>\n",
       "    </tr>\n",
       "    <tr>\n",
       "      <th>75%</th>\n",
       "      <td>8.10000</td>\n",
       "      <td>86.000000</td>\n",
       "      <td>60.16750</td>\n",
       "    </tr>\n",
       "    <tr>\n",
       "      <th>max</th>\n",
       "      <td>9.30000</td>\n",
       "      <td>100.000000</td>\n",
       "      <td>936.66000</td>\n",
       "    </tr>\n",
       "  </tbody>\n",
       "</table>\n",
       "</div>"
      ],
      "text/plain": [
       "           rating    metascore       gross\n",
       "count  1000.00000  1000.000000  1000.00000\n",
       "mean      7.96870    66.653000    57.75870\n",
       "std       0.27562    30.712829   109.17303\n",
       "min       7.60000     0.000000     0.00000\n",
       "25%       7.80000    64.750000     0.23000\n",
       "50%       7.90000    77.000000     9.40000\n",
       "75%       8.10000    86.000000    60.16750\n",
       "max       9.30000   100.000000   936.66000"
      ]
     },
     "execution_count": 9,
     "metadata": {},
     "output_type": "execute_result"
    }
   ],
   "source": [
    "# Panoramica dei dati principali\n",
    "df[['rating','metascore','gross']].describe()"
   ]
  },
  {
   "cell_type": "code",
   "execution_count": 10,
   "metadata": {},
   "outputs": [
    {
     "name": "stdout",
     "output_type": "stream",
     "text": [
      "I valori medi sono:\n",
      "rating        7.97\n",
      "metascore    66.65\n",
      "gross        57.76\n",
      "dtype: float64\n",
      "Le deviazioni standard sono:\n",
      "rating         0.28\n",
      "metascore     30.71\n",
      "gross        109.17\n",
      "dtype: float64\n",
      "Le mediane sono:\n",
      "rating        7.9\n",
      "metascore    77.0\n",
      "gross         9.4\n",
      "dtype: float64\n"
     ]
    }
   ],
   "source": [
    "# Valori medi\n",
    "print('I valori medi sono:')\n",
    "print(df[['rating','metascore','gross']].mean().round(2))\n",
    "# Deviazioni standard\n",
    "print('Le deviazioni standard sono:')\n",
    "print(df[['rating','metascore','gross']].std().round(2))\n",
    "# Mediane\n",
    "print('Le mediane sono:')\n",
    "print(df[['rating','metascore','gross']].median().round(2))"
   ]
  },
  {
   "cell_type": "markdown",
   "metadata": {},
   "source": [
    "### Indago i film con il maggiore incasso"
   ]
  },
  {
   "cell_type": "code",
   "execution_count": 11,
   "metadata": {},
   "outputs": [
    {
     "data": {
      "text/html": [
       "<div>\n",
       "<style scoped>\n",
       "    .dataframe tbody tr th:only-of-type {\n",
       "        vertical-align: middle;\n",
       "    }\n",
       "\n",
       "    .dataframe tbody tr th {\n",
       "        vertical-align: top;\n",
       "    }\n",
       "\n",
       "    .dataframe thead th {\n",
       "        text-align: right;\n",
       "    }\n",
       "</style>\n",
       "<table border=\"1\" class=\"dataframe\">\n",
       "  <thead>\n",
       "    <tr style=\"text-align: right;\">\n",
       "      <th></th>\n",
       "      <th>title</th>\n",
       "      <th>director</th>\n",
       "      <th>release_year</th>\n",
       "      <th>runtime</th>\n",
       "      <th>genre</th>\n",
       "      <th>rating</th>\n",
       "      <th>metascore</th>\n",
       "      <th>gross</th>\n",
       "    </tr>\n",
       "  </thead>\n",
       "  <tbody>\n",
       "    <tr>\n",
       "      <th>630</th>\n",
       "      <td>Star Wars: Episode VII - The Force Awakens</td>\n",
       "      <td>J.J. Abrams</td>\n",
       "      <td>2015</td>\n",
       "      <td>138</td>\n",
       "      <td>Action, Adventure, Sci-Fi</td>\n",
       "      <td>7.8</td>\n",
       "      <td>80</td>\n",
       "      <td>936.66</td>\n",
       "    </tr>\n",
       "    <tr>\n",
       "      <th>61</th>\n",
       "      <td>Avengers: Endgame</td>\n",
       "      <td>Anthony Russo</td>\n",
       "      <td>2019</td>\n",
       "      <td>181</td>\n",
       "      <td>Action, Adventure, Drama</td>\n",
       "      <td>8.4</td>\n",
       "      <td>78</td>\n",
       "      <td>858.37</td>\n",
       "    </tr>\n",
       "    <tr>\n",
       "      <th>142</th>\n",
       "      <td>Spider-Man: No Way Home</td>\n",
       "      <td>Jon Watts</td>\n",
       "      <td>2021</td>\n",
       "      <td>148</td>\n",
       "      <td>Action, Adventure, Fantasy</td>\n",
       "      <td>8.2</td>\n",
       "      <td>71</td>\n",
       "      <td>804.75</td>\n",
       "    </tr>\n",
       "    <tr>\n",
       "      <th>473</th>\n",
       "      <td>Avatar</td>\n",
       "      <td>James Cameron</td>\n",
       "      <td>2009</td>\n",
       "      <td>162</td>\n",
       "      <td>Action, Adventure, Fantasy</td>\n",
       "      <td>7.9</td>\n",
       "      <td>83</td>\n",
       "      <td>760.51</td>\n",
       "    </tr>\n",
       "    <tr>\n",
       "      <th>90</th>\n",
       "      <td>Top Gun: Maverick</td>\n",
       "      <td>Joseph Kosinski</td>\n",
       "      <td>2022</td>\n",
       "      <td>130</td>\n",
       "      <td>Action, Drama</td>\n",
       "      <td>8.3</td>\n",
       "      <td>78</td>\n",
       "      <td>718.73</td>\n",
       "    </tr>\n",
       "  </tbody>\n",
       "</table>\n",
       "</div>"
      ],
      "text/plain": [
       "                                          title         director  \\\n",
       "630  Star Wars: Episode VII - The Force Awakens      J.J. Abrams   \n",
       "61                            Avengers: Endgame    Anthony Russo   \n",
       "142                     Spider-Man: No Way Home        Jon Watts   \n",
       "473                                      Avatar    James Cameron   \n",
       "90                            Top Gun: Maverick  Joseph Kosinski   \n",
       "\n",
       "     release_year  runtime                       genre  rating  metascore  \\\n",
       "630          2015      138   Action, Adventure, Sci-Fi     7.8         80   \n",
       "61           2019      181    Action, Adventure, Drama     8.4         78   \n",
       "142          2021      148  Action, Adventure, Fantasy     8.2         71   \n",
       "473          2009      162  Action, Adventure, Fantasy     7.9         83   \n",
       "90           2022      130               Action, Drama     8.3         78   \n",
       "\n",
       "      gross  \n",
       "630  936.66  \n",
       "61   858.37  \n",
       "142  804.75  \n",
       "473  760.51  \n",
       "90   718.73  "
      ]
     },
     "execution_count": 11,
     "metadata": {},
     "output_type": "execute_result"
    }
   ],
   "source": [
    "# Versione più efficente\n",
    "top10=df.sort_values(by='gross',ascending=False)\n",
    "top10.head()"
   ]
  },
  {
   "cell_type": "code",
   "execution_count": 12,
   "metadata": {},
   "outputs": [
    {
     "name": "stdout",
     "output_type": "stream",
     "text": [
      "Top 10 film:\n",
      "0 --> Star Wars: Episode VII - The Force Awakens\n",
      "1 --> Avengers: Endgame\n",
      "2 --> Spider-Man: No Way Home\n",
      "3 --> Avatar\n",
      "4 --> Top Gun: Maverick\n",
      "5 --> Avengers: Infinity War\n",
      "6 --> Avatar: The Way of Water\n",
      "7 --> Titanic\n",
      "8 --> The Avengers\n",
      "9 --> The Dark Knight\n"
     ]
    },
    {
     "name": "stderr",
     "output_type": "stream",
     "text": [
      "<ipython-input-12-2a09b6a5465d>:11: SettingWithCopyWarning: \n",
      "A value is trying to be set on a copy of a slice from a DataFrame\n",
      "\n",
      "See the caveats in the documentation: https://pandas.pydata.org/pandas-docs/stable/user_guide/indexing.html#returning-a-view-versus-a-copy\n",
      "  inc[a]=0 # Tolgo a mano il valore, lo metto a 0\n"
     ]
    }
   ],
   "source": [
    "# Versione manuale di allenamento\n",
    "# Creo un vettore con i titoli. Lo creo vuoto poi lo riempio\n",
    "inc=df['gross']\n",
    "incasso=[]\n",
    "# Cerco i titoli con gli incassi più alti\n",
    "print('Top 10 film:')\n",
    "for i in range(10):\n",
    "    a=np.where(inc==inc.max())  # Mi da un tupla, quindo lo trasformo in int\n",
    "    a=int(a[0])\n",
    "    incasso.append(df['title'][a])\n",
    "    inc[a]=0 # Tolgo a mano il valore, lo metto a 0\n",
    "    print(i,'-->',incasso[i])"
   ]
  },
  {
   "cell_type": "markdown",
   "metadata": {},
   "source": [
    "### Analisi delle correlazioni"
   ]
  },
  {
   "cell_type": "code",
   "execution_count": 13,
   "metadata": {},
   "outputs": [
    {
     "name": "stdout",
     "output_type": "stream",
     "text": [
      "              release_year   runtime    rating  metascore     gross\n",
      "release_year      1.000000  0.216536 -0.076169  -0.074835  0.227486\n",
      "runtime           0.216536  1.000000  0.269410  -0.075951  0.074487\n",
      "rating           -0.076169  0.269410  1.000000  -0.048857  0.057501\n",
      "metascore        -0.074835 -0.075951 -0.048857   1.000000  0.190598\n",
      "gross             0.227486  0.074487  0.057501   0.190598  1.000000\n"
     ]
    },
    {
     "data": {
      "image/png": "[encoded data removed]",
      "text/plain": [
       "<Figure size 576x432 with 2 Axes>"
      ]
     },
     "metadata": {
      "needs_background": "light"
     },
     "output_type": "display_data"
    }
   ],
   "source": [
    "# Matrice delle colleazioni\n",
    "corr_matrix=df.corr()\n",
    "print(corr_matrix)\n",
    "\n",
    "# Plotto tutto in una heatmap\n",
    "plt.figure(figsize=(8,6))\n",
    "plt.imshow(corr_matrix,cmap='coolwarm',interpolation='none',aspect='auto')\n",
    "plt.colorbar(label='Correlazione')\n",
    "plt.xticks(range(len(corr_matrix.columns)),corr_matrix.columns,rotation=45)\n",
    "plt.yticks(range(len(corr_matrix.index)),corr_matrix.index)\n",
    "plt.title('Matrice delle Correlazioni')\n",
    "plt.tight_layout()\n",
    "plt.show()\n"
   ]
  }
 ],
 "metadata": {
  "kernelspec": {
   "display_name": "Python 3",
   "language": "python",
   "name": "python3"
  },
  "language_info": {
   "codemirror_mode": {
    "name": "ipython",
    "version": 3
   },
   "file_extension": ".py",
   "mimetype": "text/x-python",
   "name": "python",
   "nbconvert_exporter": "python",
   "pygments_lexer": "ipython3",
   "version": "3.8.3"
  }
 },
 "nbformat": 4,
 "nbformat_minor": 4
}
